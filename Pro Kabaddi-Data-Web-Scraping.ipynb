{
 "cells": [
  {
   "cell_type": "raw",
   "id": "929811d8",
   "metadata": {},
   "source": [
    "pip install bs4\n",
    "pip install bs4"
   ]
  },
  {
   "cell_type": "code",
   "execution_count": 1,
   "id": "ac90e524",
   "metadata": {},
   "outputs": [],
   "source": [
    "from bs4 import BeautifulSoup\n",
    "import requests,openpyxl"
   ]
  },
  {
   "cell_type": "code",
   "execution_count": 110,
   "id": "608ea310",
   "metadata": {},
   "outputs": [
    {
     "name": "stdout",
     "output_type": "stream",
     "text": [
      "['Sheet']\n",
      "['Points Table']\n"
     ]
    }
   ],
   "source": [
    "exc = openpyxl.Workbook()\n",
    "print(exc.sheetnames)\n",
    "sheets =exc.active\n",
    "sheets.title = \"Points Table\"\n",
    "print(exc.sheetnames)\n",
    "sheets.append(['Position','Team','Played','Won','Lost','Draw','Score_Diff','Form','Points'])\n"
   ]
  },
  {
   "cell_type": "code",
   "execution_count": 2,
   "id": "ea767f7f",
   "metadata": {},
   "outputs": [
    {
     "name": "stdout",
     "output_type": "stream",
     "text": [
      "1 Gujarat Giants 5 3 2 0 5 L, L, W, W, W 17\n",
      "2 Bengal Warriors 3 2 0 1 12 W, T, W 13\n",
      "3 U.P. Yoddhas 4 2 2 0 40 L, W, W, L 12\n",
      "4 Patna Pirates 2 2 0 0 25 W, W 10\n",
      "5 Puneri Paltan 2 2 0 0 15 W, W 10\n",
      "6 Haryana Steelers 3 2 1 0 -22 W, W, L 10\n",
      "7 Jaipur Pink Panthers 3 1 1 1 -1 W, T, L 9\n",
      "8 Bengaluru Bulls 5 1 4 0 -16 W, L, L, L, L 9\n",
      "9 Dabang Delhi K.C. 3 1 2 0 -6 L, W, L 6\n",
      "10 U Mumba 3 1 2 0 -10 L, L, W 6\n",
      "11 Tamil Thalaivas 2 1 1 0 1 L, W 5\n",
      "12 Telugu Titans 3 0 3 0 -43 L, L, L 1\n"
     ]
    }
   ],
   "source": [
    "\n",
    "\n",
    "try:\n",
    "    source = requests.get('https://www.prokabaddi.com/standings')\n",
    "    source.raise_for_status()\n",
    "    \n",
    "    soup = BeautifulSoup(source.text,'html.parser')\n",
    "    point_table = soup.find('div',class_=\"table-body\")\n",
    "    \n",
    "    for table in point_table: \n",
    "        \n",
    "        position = int(table.find('div',class_=\"table-data position\").p.text)\n",
    "        \n",
    "        team = table.find('div',class_=\"team-name\").text\n",
    "        \n",
    "        played = int(table.find('div',class_=\"table-data matches-play\").text)\n",
    "        \n",
    "        won = int(table.find('div',class_=\"table-data matches-won\").text)\n",
    "        \n",
    "        lost = int(table.find('div',class_=\"table-data matches-lost\").text)\n",
    "        \n",
    "        draw = int(table.find('div',class_=\"table-data matches-draw\").text)\n",
    "        \n",
    "        score_diff = int(table.find('div',class_=\"table-data score-diff\").text)\n",
    "        \n",
    "        # Extracting form data from the list\n",
    "        form_list = table.find('ul', class_=\"form-listing\").find_all('li')\n",
    "        form = ', '.join(item.text.strip() for item in form_list)\n",
    "        \n",
    "        points = int(table.find('div',class_=\"table-data points\").text)\n",
    "        \n",
    "        print(position,team,played,won,lost,draw,score_diff,form,points)\n",
    "        sheets.append([position,team,played,won,lost,draw,score_diff,form,points])\n",
    "           \n",
    "except Exception as e:\n",
    "    print(e)\n",
    "exc.save('kabaddi_2023.xlsx')"
   ]
  },
  {
   "cell_type": "code",
   "execution_count": null,
   "id": "bb5ac997",
   "metadata": {},
   "outputs": [],
   "source": []
  },
  {
   "cell_type": "code",
   "execution_count": null,
   "id": "123f3dc1",
   "metadata": {},
   "outputs": [],
   "source": []
  },
  {
   "cell_type": "code",
   "execution_count": null,
   "id": "5a7508ef",
   "metadata": {},
   "outputs": [],
   "source": []
  }
 ],
 "metadata": {
  "kernelspec": {
   "display_name": "Python 3 (ipykernel)",
   "language": "python",
   "name": "python3"
  },
  "language_info": {
   "codemirror_mode": {
    "name": "ipython",
    "version": 3
   },
   "file_extension": ".py",
   "mimetype": "text/x-python",
   "name": "python",
   "nbconvert_exporter": "python",
   "pygments_lexer": "ipython3",
   "version": "3.9.12"
  }
 },
 "nbformat": 4,
 "nbformat_minor": 5
}
