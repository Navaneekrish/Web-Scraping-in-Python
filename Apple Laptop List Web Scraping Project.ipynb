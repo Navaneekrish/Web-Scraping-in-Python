{
 "cells": [
  {
   "cell_type": "code",
   "execution_count": 2,
   "id": "6b86a94f",
   "metadata": {},
   "outputs": [],
   "source": [
    "from bs4 import BeautifulSoup\n",
    "import requests,openpyxl"
   ]
  },
  {
   "cell_type": "markdown",
   "id": "e39e92f5",
   "metadata": {},
   "source": [
    "Apple Laptop List ('https://www.smartprix.com/laptops/apple-brand')"
   ]
  },
  {
   "cell_type": "code",
   "execution_count": 316,
   "id": "6ca60b1a",
   "metadata": {},
   "outputs": [
    {
     "name": "stdout",
     "output_type": "stream",
     "text": [
      "['Sheet']\n",
      "['Apple Laptop list']\n",
      "Apple MacBook Air 2020 MGND3HN Laptop (Apple M1/ 8GB/ 256GB SSD/ MacOS) 69,990 43 4.6 Apple M1   Octa Core (4P + 4E)   8 GB DDR4 RAM   256 GB SSD   Apple M1 Integrated Graphics   13.3 inches, 2560 x 1600 pixels   Mac OS   1 Year Warranty\n",
      "Apple MacBook Air 2022 Laptop (Apple M2/ 8GB/ 256GB SSD/ MacOS) 84,990 47 4.15 Apple M2   Octa Core (4P + 4E)   8 GB DDR4 RAM   256 GB SSD   8-Core GPU   13.6 inches, 2560 x 1664 pixels   Mac OS   1 Year Warranty\n",
      "Apple MacBook Air 2024 Laptop (Apple M3/ 8GB/ 256GB SSD/ MacOS) 1,05,490 46 4.25 Apple M3   Octa Core (4P + 4E)   8 GB  RAM   256 GB SSD   Apple 8 Core GPU   13.6 inches, 2560 x 1664 pixels   Mac OS   1 Year Warranty\n",
      "Apple MacBook Air 2024 MXCT3HN/A Laptop (Apple M3/ 16GB/ 512GB SSD/ MacOS) 1,45,490 52 4.05 Apple M3   Octa Core (4P + 4E)   16 GB  RAM   512 GB SSD   Apple 10 Core GPU   13.6 inches, 2560 x 1664 pixels   Mac OS   1 Year Warranty\n",
      "Apple MacBook Pro 16 2023 Laptop (Apple M3 Max/ 48GB/ 1TB SSD/ macOS) 3,99,900 65 4.65 Apple M3 Max   16 Cores (12P + 4E)   48 GB  RAM   1 TB SSD   40 Core GPU   16.2 inches, 3456 x 2234 pixels   Mac OS   1 Year Warranty\n",
      "Apple MacBook Air 15 2024 Laptop (Apple M3/ 16GB/ 512GB SSD/ MacOS) 1,64,490 57 4.4 Apple M3   Octa Core (4P + 4E)   16 GB  RAM   512 GB SSD   10-Core GPU   15.3 inches, 2880 x 1864 pixels   Mac OS   1 Year Warranty\n",
      "Apple MacBook Pro 14 2023 Laptop (Apple M3 Pro/ 18GB/ 512GB SSD/ macOS) 1,87,990 54 4.75 Apple M3 Pro   11 Cores (5P + 6E)   18 GB  RAM   512 GB SSD   14 Core GPU   14.2 inches, 3024 x 1964 pixels   Mac OS   1 Year Warranty\n",
      "Apple MacBook Air 2022 Laptop (Apple M2/ 8GB/ 512GB SSD/ MacOS) 1,05,990 42 4.2 Apple M2 Apple M2 Chip   Octa Core   8 GB Unified Memory RAM   512 GB SSD   10-Core GPU   13.6 inches, 2560 x 1664 pixels   Mac OS   1 Year Warranty\n",
      "Apple MacBook Air 2024 MRXW3HN/A Laptop (Apple M3/ 8GB/ 512GB SSD/ MacOS) 1,22,990 48 4.3 Apple M3   Octa Core (4P + 4E)   8 GB  RAM   512 GB SSD   Apple 10 Core GPU   13.6 inches, 2560 x 1664 pixels   Mac OS   1 Year Warranty\n",
      "Apple MacBook Air 2024 MRYN3HN/A Laptop (Apple M3/ 8GB/ 512GB SSD/ MacOS) 1,45,490 56 4.15 Apple M3   Octa Core (4P + 4E)   8 GB DDR4 RAM   512 GB SSD   10-Core GPU   15.3 inches, 2880 x 1864 pixels   Mac OS   1 Year Warranty\n",
      "Apple MacBook Air 15 2024 MRYR3HN/A Laptop (Apple M3/ 8GB/ 256GB SSD/ MacOS) 1,26,890 54 4.1 Apple M3   Octa Core (4P + 4E)   8 GB DDR4 RAM   256 GB SSD   10-Core GPU   15.3 inches, 2880 x 1864 pixels   Mac OS   1 Year Warranty\n",
      "Apple MacBook Pro 16 2023 Laptop (Apple M3 Pro/ 18GB/ 512GB SSD/ macOS) 2,34,990 56 4.2 Apple M3 Pro   12 Cores (6P + 6E)   18 GB  RAM   512 GB SSD   18 Core GPU   16.2 inches, 3456 x 2234 pixels   Mac OS   1 Year Warranty\n",
      "Apple MacBook Pro 16 2023 Laptop (Apple M3 Max/ 36GB/ 1TB SSD/ macOS) 3,34,900 64 4 Apple M3 Max   14 Cores (10P + 4E)   36 GB  RAM   1 TB SSD   30 Core GPU   16.2 inches, 3456 x 2234 pixels   Mac OS   1 Year Warranty\n",
      "Apple MacBook Pro 14 2023 Laptop (Apple M3 Max/ 36GB/ 1TB SSD/ macOS) 2,99,990 63 4.2 Apple M3 Max   14 Cores (10P + 4E)   36 GB  RAM   1 TB SSD   30 Core GPU   14.2 inches, 3024 x 1964 pixels   Mac OS   1 Year Warranty\n",
      "Apple MacBook Pro 14 2023 Laptop (Apple M3 Pro/ 18GB/ 1TB SSD/ macOS) 2,25,690 56 4.35 Apple M3 Pro   12 Cores (6P + 6E)   18 GB  RAM   1 TB SSD   18 Core GPU   14.2 inches, 3024 x 1964 pixels   Mac OS   1 Year Warranty\n",
      "Apple MacBook Pro 14 2023 Laptop (Apple M3/ 8GB/ 1TB SSD/ macOS) 1,67,990 52 4.1 Apple M3   Octa Core (4P + 4E)   8 GB  RAM   1 TB SSD   10 Core GPU   14.2 inches, 3024 x 1964 pixels   Mac OS   1 Year Warranty\n",
      "Apple MacBook Pro 14 2023 Laptop (Apple M3/ 8GB/ 512GB SSD/ macOS) 1,54,990 50 4.5 Apple M3   Octa Core (4P + 4E)   8 GB  RAM   512 GB SSD   10 Core GPU   14.2 inches, 3024 x 1964 pixels   Mac OS   1 Year Warranty\n",
      "Apple MacBook Air 15 2023 Laptop (Apple M2/ 8GB/ 512GB SSD/ MacOS) 1,31,590 54 4.75 Apple M2   Octa Core (4P + 4E)   8 GB DDR4 RAM   512 GB SSD   10-Core GPU   15.3 inches, 2880 x 1864 pixels   Mac OS   1 Year Warranty\n",
      "Apple MacBook Air 15 2023 Laptop (Apple M2/ 8GB/ 256GB SSD/ MacOS) 1,13,690 52 4.55 Apple M2   Octa Core (4P + 4E)   8 GB DDR4 RAM   256 GB SSD   10-Core GPU   15.3 inches, 2880 x 1864 pixels   Mac OS   1 Year Warranty\n",
      "Apple MacBook Pro 14 inch Laptop (M2 Max 12-core CPU/ 32GB/ 1TB SSD/ Mac OS/ 30-core GPU) 2,82,990 61 4.6 Apple M2 Max M2 Max   12 Cores   32 GB Unified Memory RAM   1 TB SSD   30-core GPU   14.2 inches, 3024 x 1964 pixels   Mac OS   1 Year Warranty\n",
      "Could not find the 'div' element with class 'row ajax_scroll_search mt10'.\n"
     ]
    }
   ],
   "source": [
    "excel_file = openpyxl.Workbook()\n",
    "print(excel_file.sheetnames)\n",
    "sheets =excel_file.active\n",
    "sheets.title = \"Apple Laptop list\"\n",
    "print(excel_file.sheetnames)\n",
    "sheets.append(['Name','Price','Spec Score','Rating','Model','Processor','Ram','Rom','Graphics','Display','OS','Warranty'])\n",
    "\n",
    "with open('Apple Laptops Price List in India _ Smartprix.html', 'r', encoding=\"utf8\") as f:\n",
    "    html_content = f.read()\n",
    "\n",
    "try:\n",
    "    soup = BeautifulSoup(html_content, 'html.parser')\n",
    "\n",
    "    laptops_div = soup.find('div', class_=\"sm-products list size-m img-wide len-20\")\n",
    "\n",
    "    # Check if the 'div' element is found\n",
    "    if laptops_div:\n",
    "        laptop_list = laptops_div.find_all('div', class_='sm-product')  #common class for laptops details\n",
    "\n",
    "        for laptop in laptop_list:\n",
    "            name_elements = laptop.find_all('h2')\n",
    "            for name_element in name_elements:\n",
    "                name = name_element.text\n",
    "                \n",
    "            price =laptop.find('span',class_=\"price\").get_text(strip=True).split('₹')[1]\n",
    "            \n",
    "            rating = laptop.find('span', class_='sm-rating')\n",
    "            if rating and 'style' in rating.attrs:\n",
    "                style = rating['style']\n",
    "                laptop_rating = style.split(':')[1].rstrip(';')\n",
    "            \n",
    "            spec_score =laptop.find('div',class_=\"tags\").b.text\n",
    "            \n",
    "            desc =laptop.find('ul',class_=\"sm-feat specs\").get_text(separator=' | ', strip=True).split('|')\n",
    "            \n",
    "            model =desc[0]\n",
    "            \n",
    "            processor =desc[1]\n",
    "            \n",
    "            ram =desc[2]\n",
    "            \n",
    "            rom =desc[3]\n",
    "            \n",
    "            Graphics =desc[4]\n",
    "            \n",
    "            display =desc[5]\n",
    "        \n",
    "            os =desc[6]\n",
    "                                                                                                                         \n",
    "            warranty  =desc[7] \n",
    "            \n",
    "            print(name,price,spec_score,laptop_rating,model,processor,ram,rom,Graphics,display,os,warranty)\n",
    "            sheets.append([name,price,spec_score,laptop_rating,model,processor,ram,rom,Graphics,display,os,warranty])\n",
    "           \n",
    "            \n",
    "        else:\n",
    "            print(\"Could not find the 'div' element with class 'row ajax_scroll_search mt10'.\")\n",
    "\n",
    "except Exception as e:\n",
    "    print(e)\n",
    "\n",
    "excel_file.save('Apple Laptop list.xlsx')"
   ]
  },
  {
   "cell_type": "code",
   "execution_count": null,
   "id": "08889b68",
   "metadata": {},
   "outputs": [],
   "source": []
  }
 ],
 "metadata": {
  "kernelspec": {
   "display_name": "Python 3 (ipykernel)",
   "language": "python",
   "name": "python3"
  },
  "language_info": {
   "codemirror_mode": {
    "name": "ipython",
    "version": 3
   },
   "file_extension": ".py",
   "mimetype": "text/x-python",
   "name": "python",
   "nbconvert_exporter": "python",
   "pygments_lexer": "ipython3",
   "version": "3.9.12"
  }
 },
 "nbformat": 4,
 "nbformat_minor": 5
}
